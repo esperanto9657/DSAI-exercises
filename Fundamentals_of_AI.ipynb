{
 "cells": [
  {
   "cell_type": "markdown",
   "metadata": {},
   "source": [
    "学籍番号：20M30574  \n",
    "名前：朱嘉基"
   ]
  },
  {
   "cell_type": "code",
   "execution_count": 1,
   "metadata": {},
   "outputs": [],
   "source": [
    "import pandas as pd\n",
    "\n",
    "# CSVファイルの読み込み\n",
    "def load_data():\n",
    "  return pd.read_csv(\"train.csv\"), pd.read_csv(\"test.csv\")\n",
    "\n",
    "train_data, test_data = load_data()"
   ]
  },
  {
   "cell_type": "code",
   "execution_count": 2,
   "metadata": {},
   "outputs": [],
   "source": [
    "x_train = train_data.loc[:, \"Alcohol\":]\n",
    "x_test = test_data.loc[:, \"Alcohol\":]\n",
    "y_train = train_data[\"Class\"]\n",
    "y_test = test_data[\"Class\"]"
   ]
  },
  {
   "cell_type": "code",
   "execution_count": 3,
   "metadata": {},
   "outputs": [],
   "source": [
    "import numpy as np\n",
    "from sklearn.svm import SVC\n",
    "from sklearn.model_selection import GridSearchCV\n",
    "from sklearn.model_selection import train_test_split\n",
    "from sklearn.model_selection import KFold\n",
    "from sklearn.metrics import accuracy_score\n",
    "from sklearn.pipeline import Pipeline\n",
    "from sklearn.preprocessing import StandardScaler"
   ]
  },
  {
   "cell_type": "code",
   "execution_count": 4,
   "metadata": {},
   "outputs": [],
   "source": [
    "steps = [\n",
    "    ('sc', StandardScaler()),\n",
    "    ('svr', SVC())\n",
    "]\n",
    "pipeline = Pipeline(steps = steps)"
   ]
  },
  {
   "cell_type": "code",
   "execution_count": 5,
   "metadata": {},
   "outputs": [],
   "source": [
    "parameters = {\n",
    "    \"svr__C\" : [0.1 * i for i in range(1, 21)]\n",
    "}"
   ]
  },
  {
   "cell_type": "code",
   "execution_count": 6,
   "metadata": {},
   "outputs": [
    {
     "name": "stdout",
     "output_type": "stream",
     "text": [
      "Fitting 5 folds for each of 20 candidates, totalling 100 fits\n"
     ]
    },
    {
     "name": "stderr",
     "output_type": "stream",
     "text": [
      "[Parallel(n_jobs=2)]: Using backend LokyBackend with 2 concurrent workers.\n",
      "[Parallel(n_jobs=2)]: Done  81 tasks      | elapsed:    1.1s\n",
      "[Parallel(n_jobs=2)]: Done 100 out of 100 | elapsed:    1.2s finished\n"
     ]
    }
   ],
   "source": [
    "kf = KFold(n_splits = 5, shuffle = True, random_state = 42)\n",
    "grid = GridSearchCV(pipeline, param_grid = parameters, cv = kf, verbose = 2, n_jobs = 2, scoring = \"accuracy\")\n",
    "grid.fit(x_train, y_train)\n",
    "result = grid.cv_results_"
   ]
  },
  {
   "cell_type": "code",
   "execution_count": 7,
   "metadata": {},
   "outputs": [
    {
     "name": "stdout",
     "output_type": "stream",
     "text": [
      "[[0.9790640394088669 {'svr__C': 2.0}]\n",
      " [0.9790640394088669 {'svr__C': 1.1}]\n",
      " [0.9790640394088669 {'svr__C': 0.4}]\n",
      " [0.9790640394088669 {'svr__C': 0.5}]\n",
      " [0.9790640394088669 {'svr__C': 0.6000000000000001}]\n",
      " [0.9790640394088669 {'svr__C': 0.7000000000000001}]\n",
      " [0.9790640394088669 {'svr__C': 0.8}]\n",
      " [0.9790640394088669 {'svr__C': 0.9}]\n",
      " [0.9790640394088669 {'svr__C': 1.9000000000000001}]\n",
      " [0.9790640394088669 {'svr__C': 1.0}]\n",
      " [0.9790640394088669 {'svr__C': 1.2000000000000002}]\n",
      " [0.9790640394088669 {'svr__C': 1.3}]\n",
      " [0.9790640394088669 {'svr__C': 1.4000000000000001}]\n",
      " [0.9790640394088669 {'svr__C': 1.5}]\n",
      " [0.9790640394088669 {'svr__C': 1.6}]\n",
      " [0.9790640394088669 {'svr__C': 1.7000000000000002}]\n",
      " [0.9790640394088669 {'svr__C': 1.8}]\n",
      " [0.9719211822660098 {'svr__C': 0.30000000000000004}]\n",
      " [0.9719211822660098 {'svr__C': 0.2}]\n",
      " [0.9719211822660098 {'svr__C': 0.1}]]\n"
     ]
    }
   ],
   "source": [
    "rank = np.vstack((result[\"mean_test_score\"], result[\"params\"]))\n",
    "rank = rank[:, np.argsort(rank[0])[::-1]]\n",
    "np.set_printoptions(threshold=np.inf)\n",
    "print(np.transpose(rank))"
   ]
  },
  {
   "cell_type": "code",
   "execution_count": 8,
   "metadata": {},
   "outputs": [
    {
     "name": "stdout",
     "output_type": "stream",
     "text": [
      "1.0\n"
     ]
    }
   ],
   "source": [
    "y_pred = grid.predict(x_test)\n",
    "acc = accuracy_score(y_test, y_pred)\n",
    "print(acc)"
   ]
  }
 ],
 "metadata": {
  "kernelspec": {
   "display_name": "Python 3",
   "language": "python",
   "name": "python3"
  },
  "language_info": {
   "codemirror_mode": {
    "name": "ipython",
    "version": 3
   },
   "file_extension": ".py",
   "mimetype": "text/x-python",
   "name": "python",
   "nbconvert_exporter": "python",
   "pygments_lexer": "ipython3",
   "version": "3.8.5"
  }
 },
 "nbformat": 4,
 "nbformat_minor": 4
}
